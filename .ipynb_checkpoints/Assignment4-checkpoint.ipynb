{
 "cells": [
  {
   "cell_type": "markdown",
   "metadata": {
    "collapsed": true
   },
   "source": [
    "### Unemployment rate in Michigan vs in US\n",
    "Source US Unemployment data: https://data.bls.gov/pdq/SurveyOutputServlet <br>\n",
    "Source Michigan Unemployment data: https://fred.stlouisfed.org/graph/?g=Mb5\n",
    "\n",
    "### Research Question:\n",
    "How well the economy of Michigan performs compared to the national economy with unemployment rate as the economic indicator?\n"
   ]
  },
  {
   "cell_type": "code",
   "execution_count": 16,
   "metadata": {},
   "outputs": [],
   "source": [
    "import pandas as pd\n",
    "import numpy as np\n",
    "import matplotlib.pyplot as plt\n",
    "import seaborn as sns\n"
   ]
  },
  {
   "cell_type": "code",
   "execution_count": 17,
   "metadata": {},
   "outputs": [],
   "source": [
    "%matplotlib inline"
   ]
  },
  {
   "cell_type": "code",
   "execution_count": 18,
   "metadata": {},
   "outputs": [
    {
     "data": {
      "text/html": [
       "<style type=\"text/css\">\n",
       "table.dataframe td, table.dataframe th {\n",
       "    border: 1px  black solid !important;\n",
       "  color: black !important;\n",
       "}"
      ],
      "text/plain": [
       "<IPython.core.display.HTML object>"
      ]
     },
     "metadata": {},
     "output_type": "display_data"
    }
   ],
   "source": [
    "%%HTML\n",
    "<style type=\"text/css\">\n",
    "table.dataframe td, table.dataframe th {\n",
    "    border: 1px  black solid !important;\n",
    "  color: black !important;\n",
    "}"
   ]
  },
  {
   "cell_type": "code",
   "execution_count": 26,
   "metadata": {},
   "outputs": [],
   "source": [
    "#US Unemployment data\n",
    "dfu1 = pd.read_excel(r\"Project\\US_ur.xlsx\", skiprows = 11, index_col = \"Year\")\n",
    "dfu1 = dfu1[dfu1.index>=1976]\n"
   ]
  },
  {
   "cell_type": "code",
   "execution_count": 27,
   "metadata": {},
   "outputs": [],
   "source": [
    "#Converting the dataframe to Michigan data style\n",
    "dfu = pd.concat(dfu1.loc[j] for j in dfu1.index) \n",
    "yr = []\n",
    "for year in dfu1.index:\n",
    "    y = [year]*12\n",
    "    yr.extend(y)\n",
    "dfu = pd.DataFrame(dfu)\n",
    "dfu[\"Year\"] = yr\n",
    "dfu = dfu.reset_index()\n",
    "dfu.columns = [\"Month\", \"UR\", \"Year\"]\n"
   ]
  },
  {
   "cell_type": "code",
   "execution_count": 28,
   "metadata": {},
   "outputs": [
    {
     "data": {
      "text/html": [
       "<div>\n",
       "<style scoped>\n",
       "    .dataframe tbody tr th:only-of-type {\n",
       "        vertical-align: middle;\n",
       "    }\n",
       "\n",
       "    .dataframe tbody tr th {\n",
       "        vertical-align: top;\n",
       "    }\n",
       "\n",
       "    .dataframe thead th {\n",
       "        text-align: right;\n",
       "    }\n",
       "</style>\n",
       "<table border=\"1\" class=\"dataframe\">\n",
       "  <thead>\n",
       "    <tr style=\"text-align: right;\">\n",
       "      <th></th>\n",
       "      <th>Date</th>\n",
       "      <th>Month</th>\n",
       "      <th>UR</th>\n",
       "      <th>Year</th>\n",
       "    </tr>\n",
       "  </thead>\n",
       "  <tbody>\n",
       "    <tr>\n",
       "      <th>0</th>\n",
       "      <td>1976-01-01</td>\n",
       "      <td>Jan</td>\n",
       "      <td>9.9</td>\n",
       "      <td>1976</td>\n",
       "    </tr>\n",
       "    <tr>\n",
       "      <th>1</th>\n",
       "      <td>1976-02-01</td>\n",
       "      <td>Feb</td>\n",
       "      <td>9.9</td>\n",
       "      <td>1976</td>\n",
       "    </tr>\n",
       "    <tr>\n",
       "      <th>2</th>\n",
       "      <td>1976-03-01</td>\n",
       "      <td>Mar</td>\n",
       "      <td>9.9</td>\n",
       "      <td>1976</td>\n",
       "    </tr>\n",
       "    <tr>\n",
       "      <th>3</th>\n",
       "      <td>1976-04-01</td>\n",
       "      <td>Apr</td>\n",
       "      <td>9.8</td>\n",
       "      <td>1976</td>\n",
       "    </tr>\n",
       "    <tr>\n",
       "      <th>4</th>\n",
       "      <td>1976-05-01</td>\n",
       "      <td>May</td>\n",
       "      <td>9.6</td>\n",
       "      <td>1976</td>\n",
       "    </tr>\n",
       "  </tbody>\n",
       "</table>\n",
       "</div>"
      ],
      "text/plain": [
       "        Date Month   UR  Year\n",
       "0 1976-01-01   Jan  9.9  1976\n",
       "1 1976-02-01   Feb  9.9  1976\n",
       "2 1976-03-01   Mar  9.9  1976\n",
       "3 1976-04-01   Apr  9.8  1976\n",
       "4 1976-05-01   May  9.6  1976"
      ]
     },
     "execution_count": 28,
     "metadata": {},
     "output_type": "execute_result"
    }
   ],
   "source": [
    "#Michigan unemployment data\n",
    "dfm = pd.read_excel(r\"Project\\michigan_ur.xls\", skiprows = 10)\n",
    "dfm = dfm.rename(columns = {\"observation_date\": \"Date\"})\n",
    "dfm[\"Month\"] = dfm[\"Date\"].apply(lambda x: x.strftime(\"%b\"))\n",
    "dfm[\"Year\"] = dfm[\"Date\"].apply(lambda x: x.strftime(\"%Y\"))\n",
    "#dfm = dfm.drop(columns = \"Date\")\n",
    "dfm = dfm.rename(columns = {\"MIUR\": \"UR\"}).sort_index(axis = 1)\n",
    "dfm.head()"
   ]
  },
  {
   "cell_type": "code",
   "execution_count": 29,
   "metadata": {},
   "outputs": [
    {
     "data": {
      "text/html": [
       "<div>\n",
       "<style scoped>\n",
       "    .dataframe tbody tr th:only-of-type {\n",
       "        vertical-align: middle;\n",
       "    }\n",
       "\n",
       "    .dataframe tbody tr th {\n",
       "        vertical-align: top;\n",
       "    }\n",
       "\n",
       "    .dataframe thead th {\n",
       "        text-align: right;\n",
       "    }\n",
       "</style>\n",
       "<table border=\"1\" class=\"dataframe\">\n",
       "  <thead>\n",
       "    <tr style=\"text-align: right;\">\n",
       "      <th></th>\n",
       "      <th>Month</th>\n",
       "      <th>UR</th>\n",
       "      <th>Year</th>\n",
       "      <th>Date</th>\n",
       "    </tr>\n",
       "  </thead>\n",
       "  <tbody>\n",
       "    <tr>\n",
       "      <th>0</th>\n",
       "      <td>Jan</td>\n",
       "      <td>7.9</td>\n",
       "      <td>1976</td>\n",
       "      <td>1976-01-01</td>\n",
       "    </tr>\n",
       "    <tr>\n",
       "      <th>1</th>\n",
       "      <td>Feb</td>\n",
       "      <td>7.7</td>\n",
       "      <td>1976</td>\n",
       "      <td>1976-02-01</td>\n",
       "    </tr>\n",
       "    <tr>\n",
       "      <th>2</th>\n",
       "      <td>Mar</td>\n",
       "      <td>7.6</td>\n",
       "      <td>1976</td>\n",
       "      <td>1976-03-01</td>\n",
       "    </tr>\n",
       "    <tr>\n",
       "      <th>3</th>\n",
       "      <td>Apr</td>\n",
       "      <td>7.7</td>\n",
       "      <td>1976</td>\n",
       "      <td>1976-04-01</td>\n",
       "    </tr>\n",
       "    <tr>\n",
       "      <th>4</th>\n",
       "      <td>May</td>\n",
       "      <td>7.4</td>\n",
       "      <td>1976</td>\n",
       "      <td>1976-05-01</td>\n",
       "    </tr>\n",
       "  </tbody>\n",
       "</table>\n",
       "</div>"
      ],
      "text/plain": [
       "  Month   UR  Year       Date\n",
       "0   Jan  7.9  1976 1976-01-01\n",
       "1   Feb  7.7  1976 1976-02-01\n",
       "2   Mar  7.6  1976 1976-03-01\n",
       "3   Apr  7.7  1976 1976-04-01\n",
       "4   May  7.4  1976 1976-05-01"
      ]
     },
     "execution_count": 29,
     "metadata": {},
     "output_type": "execute_result"
    }
   ],
   "source": [
    "dfu[\"Date\"] = dfm[\"Date\"]\n",
    "dfu.head()"
   ]
  },
  {
   "cell_type": "code",
   "execution_count": 30,
   "metadata": {},
   "outputs": [
    {
     "data": {
      "image/png": "[encoded data removed]",
      "text/plain": [
       "<Figure size 720x360 with 1 Axes>"
      ]
     },
     "metadata": {},
     "output_type": "display_data"
    }
   ],
   "source": [
    "fig, ax = plt.subplots(figsize = (10, 5))\n",
    "sns.lineplot(x =dfm[\"Date\"], y = \"UR\", data = dfm, color = \"blue\", alpha = 0.8)\n",
    "sns.lineplot(x =dfu[\"Date\"], y = \"UR\", data = dfu, color = \"red\", alpha = 0.8)\n",
    "plt.legend([\"US\", \"Michigan\"])\n",
    "#ax.set_xticks(list(dfm[\"Year\"].unique()))\n",
    "#plt.xticks(rotation = \"vertical\")\n",
    "ax.set_ylabel(\"Unemployment Rate in %\")\n",
    "ax.set_xlabel(\"Year\")\n",
    "ax.set_title(\"Monthly Unemployment rate in Michigan and US\" )\n",
    "\n",
    "ax.spines[\"top\"].set_visible(False)\n",
    "ax.spines[\"right\"].set_visible(False)"
   ]
  },
  {
   "cell_type": "code",
   "execution_count": null,
   "metadata": {},
   "outputs": [],
   "source": []
  },
  {
   "cell_type": "code",
   "execution_count": null,
   "metadata": {},
   "outputs": [],
   "source": []
  }
 ],
 "metadata": {
  "kernelspec": {
   "display_name": "Python 3",
   "language": "python",
   "name": "python3"
  },
  "language_info": {
   "codemirror_mode": {
    "name": "ipython",
    "version": 3
   },
   "file_extension": ".py",
   "mimetype": "text/x-python",
   "name": "python",
   "nbconvert_exporter": "python",
   "pygments_lexer": "ipython3",
   "version": "3.6.4"
  }
 },
 "nbformat": 4,
 "nbformat_minor": 1
}
